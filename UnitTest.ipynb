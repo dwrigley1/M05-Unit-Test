{
 "cells": [
  {
   "cell_type": "code",
   "execution_count": null,
   "id": "fe77c3c5-9ed9-4b26-aec9-99d5f40b4e43",
   "metadata": {},
   "outputs": [],
   "source": [
    "import unittest\n",
    "from fractions import Fraction\n",
    "from my_sum import sum\n",
    "\n",
    "\n",
    "class TestSum(unittest.TestCase):\n",
    "    def test_list_int(self):\n",
    "        \"\"\"\n",
    "        Test that it can sum a list of integers\n",
    "        \"\"\"\n",
    "        data = [1, 2, 3]\n",
    "        result = sum(data)\n",
    "        self.assertEqual(result, 6)\n",
    "\n",
    "    def test_list_fraction(self):\n",
    "        \"\"\"\n",
    "        Test that it can sum a list of fractions\n",
    "        \"\"\"\n",
    "        data = [Fraction(1, 4), Fraction(1, 4), Fraction(2, 5)]\n",
    "        result = sum(data)\n",
    "        self.assertEqual(result, 1)  \n",
    "\n",
    "if __name__ == '__main__':\n",
    "    unittest.main()"
   ]
  },
  {
   "cell_type": "code",
   "execution_count": null,
   "id": "e248a1bf-ce48-4cad-8c02-3117a5c17593",
   "metadata": {},
   "outputs": [],
   "source": [
    "''' \n",
    "The test results from running the various commands:\n",
    "python -m unittest test\n",
    "python -m unittest -v test\n",
    "python -m unittest discover\n",
    "python -m unittest discover_-s_tests\n",
    "\n",
    "All provide different answers. \n",
    "\n",
    "The first simply runs the test and if given a .F then you learn that your test has passed.\n",
    "\n",
    "The second has an additional piece in there, the addition of -v stands for verbose which \n",
    "means 'to use more words than necessary' but if your test passed, you are given an 'OK' as the output which allows you to understand that\n",
    "your test has passed a bit easier. \n",
    "\n",
    "The third has the addition of the command 'discover' which will search your current working directory for any files named test.py and attempt to run them.\n",
    "\n",
    "The fourth has the additional command _-s_tests which allows for unittest to run all tests in a single test plan and give you the results\n",
    "'''"
   ]
  }
 ],
 "metadata": {
  "kernelspec": {
   "display_name": "Python 3 (ipykernel)",
   "language": "python",
   "name": "python3"
  },
  "language_info": {
   "codemirror_mode": {
    "name": "ipython",
    "version": 3
   },
   "file_extension": ".py",
   "mimetype": "text/x-python",
   "name": "python",
   "nbconvert_exporter": "python",
   "pygments_lexer": "ipython3",
   "version": "3.11.7"
  }
 },
 "nbformat": 4,
 "nbformat_minor": 5
}
